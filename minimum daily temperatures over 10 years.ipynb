{
 "cells": [
  {
   "cell_type": "markdown",
   "id": "6096ea48",
   "metadata": {},
   "source": [
    "# The dataset describes the minimum daily temperatures over 10 years (1981-1990) in the city Melbourne, Australia."
   ]
  },
  {
   "cell_type": "code",
   "execution_count": 8,
   "id": "d92b8b49",
   "metadata": {},
   "outputs": [],
   "source": [
    "from pandas import read_csv\n",
    "from sklearn.preprocessing import MinMaxScaler\n",
    "import matplotlib.pyplot as plt"
   ]
  },
  {
   "cell_type": "markdown",
   "id": "3269f19a",
   "metadata": {},
   "source": [
    "# Dataset"
   ]
  },
  {
   "cell_type": "code",
   "execution_count": 2,
   "id": "5874478a",
   "metadata": {},
   "outputs": [
    {
     "name": "stdout",
     "output_type": "stream",
     "text": [
      "            Temp\n",
      "Date            \n",
      "1981-01-01  20.7\n",
      "1981-01-02  17.9\n",
      "1981-01-03  18.8\n",
      "1981-01-04  14.6\n",
      "1981-01-05  15.8\n"
     ]
    }
   ],
   "source": [
    "series = read_csv('daily-min-temperatures.cvs.csv', header=0, index_col=0)\n",
    "print(series.head())"
   ]
  },
  {
   "cell_type": "markdown",
   "id": "995a8224",
   "metadata": {},
   "source": [
    "# plot the dataset"
   ]
  },
  {
   "cell_type": "code",
   "execution_count": 3,
   "id": "5fdb3958",
   "metadata": {},
   "outputs": [
    {
     "data": {
      "image/png": "[encoded data removed]",
      "text/plain": [
       "<Figure size 432x288 with 1 Axes>"
      ]
     },
     "metadata": {
      "needs_background": "light"
     },
     "output_type": "display_data"
    }
   ],
   "source": [
    "plt.plot(series[\"Temp\"])\n",
    "plt.xlabel(\"Temp\")\n",
    "plt.title(\"Daily min temperatures\")\n",
    "plt.show()"
   ]
  },
  {
   "cell_type": "markdown",
   "id": "eddc3337",
   "metadata": {},
   "source": [
    "# Fitting and Training the Normalisation"
   ]
  },
  {
   "cell_type": "code",
   "execution_count": 5,
   "id": "3998d51d",
   "metadata": {},
   "outputs": [
    {
     "name": "stdout",
     "output_type": "stream",
     "text": [
      "Min: 0.000000, Max: 26.300000\n"
     ]
    }
   ],
   "source": [
    "scaler = MinMaxScaler(feature_range=(0, 1))\n",
    "scaler = scaler.fit(values)\n",
    "print('Min: %f, Max: %f' % (scaler.data_min_, scaler.data_max_))"
   ]
  },
  {
   "cell_type": "code",
   "execution_count": 9,
   "id": "8bafa49a",
   "metadata": {},
   "outputs": [],
   "source": [
    "values = series.values\n",
    "values = values.reshape((len(values), 1))"
   ]
  },
  {
   "cell_type": "markdown",
   "id": "1fa356cf",
   "metadata": {},
   "source": [
    "# Normalize the dataset and print the first 5 rows"
   ]
  },
  {
   "cell_type": "code",
   "execution_count": 6,
   "id": "766185a7",
   "metadata": {
    "scrolled": false
   },
   "outputs": [
    {
     "name": "stdout",
     "output_type": "stream",
     "text": [
      "[0.78707224]\n",
      "[0.68060837]\n",
      "[0.7148289]\n",
      "[0.55513308]\n",
      "[0.60076046]\n"
     ]
    }
   ],
   "source": [
    "normalized = scaler.transform(values)\n",
    "for i in range(5):\n",
    "    print(normalized[i])"
   ]
  },
  {
   "cell_type": "markdown",
   "id": "3955dd30",
   "metadata": {},
   "source": [
    "# Inverse transform and print the first 5 rows"
   ]
  },
  {
   "cell_type": "code",
   "execution_count": 7,
   "id": "c5b137cf",
   "metadata": {},
   "outputs": [
    {
     "name": "stdout",
     "output_type": "stream",
     "text": [
      "[20.7]\n",
      "[17.9]\n",
      "[18.8]\n",
      "[14.6]\n",
      "[15.8]\n"
     ]
    }
   ],
   "source": [
    "inversed = scaler.inverse_transform(normalized)\n",
    "for i in range(5):\n",
    "   print(inversed[i])"
   ]
  }
 ],
 "metadata": {
  "kernelspec": {
   "display_name": "Python 3",
   "language": "python",
   "name": "python3"
  },
  "language_info": {
   "codemirror_mode": {
    "name": "ipython",
    "version": 3
   },
   "file_extension": ".py",
   "mimetype": "text/x-python",
   "name": "python",
   "nbconvert_exporter": "python",
   "pygments_lexer": "ipython3",
   "version": "3.8.8"
  }
 },
 "nbformat": 4,
 "nbformat_minor": 5
}
